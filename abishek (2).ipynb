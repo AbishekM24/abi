{
  "nbformat": 4,
  "nbformat_minor": 0,
  "metadata": {
    "colab": {
      "name": "abishek.ipynb",
      "provenance": []
    },
    "kernelspec": {
      "name": "python3",
      "display_name": "Python 3"
    },
    "language_info": {
      "name": "python"
    }
  },
  "cells": [
    {
      "cell_type": "code",
      "metadata": {
        "colab": {
          "base_uri": "https://localhost:8080/"
        },
        "id": "BoS7QUspXizq",
        "outputId": "9e6873ba-b10b-41fd-f5f4-4a81ccd6b9be"
      },
      "source": [
        "import requests\n",
        "from datetime import datetime\n",
        "api_key ='572d7e0c2c1223bb62ebf7cbe3664edd'\n",
        "location = input(\"Enter the city name:\")\n",
        "Complete_api_link =\"https://api.openweathermap.org/data/2.5/weather?q=\"+location+\"&appid=\"+api_key\n",
        "api_link = requests.get(Complete_api_link)\n",
        "api_data  = api_link.json()\n",
        "temp_city=((api_data['main']['temp'])-273.15)\n",
        "weather_desc = api_data['weather'][0]['description']\n",
        "hmdt = api_data['main']['humidity']\n",
        "wind_spd = api_data['wind']['speed']\n",
        "date_time = datetime.now().strftime(\"%d %b %Y|%I:%M:%S %P\")\n",
        "print(\"-----------------------------------------\")\n",
        "print(\"weather stats for - {} || {}\".format(location.upper(), date_time))\n",
        "print(\"--------------------------------------------\")\n",
        "print (\"Current temperature is: {:.2f}deg C\".format(temp_city))\n",
        "print (\"Current weather desc :\",weather_desc)\n",
        "print (\"Current Humidity :\", hmdt, '%')\n",
        "print (\"Current wind speed:\", wind_spd, 'kmph')"
      ],
      "execution_count": 1,
      "outputs": [
        {
          "output_type": "stream",
          "text": [
            "Enter the city name:chennai\n",
            "-----------------------------------------\n",
            "weather stats for - CHENNAI || 22 Jun 2021|03:38:09 pm\n",
            "--------------------------------------------\n",
            "Current temperature is: 29.42deg C\n",
            "Current weather desc : scattered clouds\n",
            "Current Humidity : 84 %\n",
            "Current wind speed: 1.34 kmph\n"
          ],
          "name": "stdout"
        }
      ]
    }
  ]
}